{
 "cells": [
  {
   "cell_type": "code",
   "execution_count": null,
   "id": "c126e272",
   "metadata": {},
   "outputs": [],
   "source": [
    "import mlflow "
   ]
  },
  {
   "cell_type": "code",
   "execution_count": null,
   "id": "8bec4b48",
   "metadata": {},
   "outputs": [],
   "source": [
    "# Use this code to create a new experiment in MLflow with detailed tags and description.\n",
    "try:\n",
    "    client = mlflow.MlflowClient(tracking_uri=\"http://localhost:5000\")\n",
    "\n",
    "    experiment_description = \"\"\" This experiment focuses on Smart Recycling using computer vision. \n",
    "    The goal is to classify waste items into 8 categories: battery, biological, clothes, glass, metal, paper, plastic, and trash. \n",
    "    Different model architectures and augmentation strategies are tested to evaluate their performance and identify the best approach \n",
    "    for robust and scalable recycling classification.\"\"\"\n",
    "\n",
    "    experiment_tags = {\n",
    "        \"project_name\": \"smart-recycling\",\n",
    "        \"team\": \"ai-team-xyz\",\n",
    "        \"mlflow.note.content\": experiment_description,\n",
    "        \"task\": \"image-classification\",\n",
    "        \"framework\": \"tensorflow-keras\",\n",
    "        \"num_classes\": \"8\",\n",
    "        \"dataset\": \"garbage-dataset-v1\",\n",
    "        \"status\": \"in-progress\",\n",
    "    }\n",
    "\n",
    "    produce_apples_experiment = client.create_experiment(\n",
    "        name=\"Smart_Recycling\", tags=experiment_tags\n",
    "    )\n",
    "except Exception as e:\n",
    "    print(f\"Experiment already exists\")"
   ]
  },
  {
   "cell_type": "code",
   "execution_count": null,
   "id": "2e7e08b4",
   "metadata": {},
   "outputs": [],
   "source": [
    "# IF YOUR DATASET IS NOT SPLITTED INTO TRAIN/VAL/TEST, USE THIS CODE TO SPLIT IT\n",
    "\n",
    "\n",
    "from smart_recycling.utils import split_dataset\n",
    "\n",
    "# This will create a new folder with the splitted dataset, provide seed for reproducibility and ratio for train/val/test\n",
    "split_dataset(\n",
    "    source_folder=\"/home/ubuntu/dev/smart_r/garbage-dataset\",\n",
    "    output_folder=\"/home/ubuntu/dev/smart_r/garbage-dataset-v1\",\n",
    "    seed=42,\n",
    "    ratio=(0.75, 0.1, 0.15),\n",
    ")"
   ]
  }
 ],
 "metadata": {
  "kernelspec": {
   "display_name": "smart_r",
   "language": "python",
   "name": "python3"
  },
  "language_info": {
   "name": "python",
   "version": "3.13.5"
  }
 },
 "nbformat": 4,
 "nbformat_minor": 5
}
