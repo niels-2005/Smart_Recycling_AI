{
 "cells": [
  {
   "cell_type": "code",
   "execution_count": null,
   "id": "05cdc157",
   "metadata": {},
   "outputs": [],
   "source": [
    "import os\n",
    "\n",
    "# Needed for exact reproducibility of results when using TensorFlow\n",
    "os.environ[\"TF_ENABLE_ONEDNN_OPTS\"] = \"0\""
   ]
  },
  {
   "cell_type": "code",
   "execution_count": 1,
   "id": "ea2177c4",
   "metadata": {},
   "outputs": [
    {
     "name": "stderr",
     "output_type": "stream",
     "text": [
      "2025-09-19 18:02:01.332049: I tensorflow/core/util/port.cc:153] oneDNN custom operations are on. You may see slightly different numerical results due to floating-point round-off errors from different computation orders. To turn them off, set the environment variable `TF_ENABLE_ONEDNN_OPTS=0`.\n",
      "2025-09-19 18:02:01.369950: I tensorflow/core/platform/cpu_feature_guard.cc:210] This TensorFlow binary is optimized to use available CPU instructions in performance-critical operations.\n",
      "To enable the following instructions: AVX2 AVX512F AVX512_VNNI FMA, in other operations, rebuild TensorFlow with the appropriate compiler flags.\n",
      "2025-09-19 18:02:02.223657: I tensorflow/core/util/port.cc:153] oneDNN custom operations are on. You may see slightly different numerical results due to floating-point round-off errors from different computation orders. To turn them off, set the environment variable `TF_ENABLE_ONEDNN_OPTS=0`.\n",
      "WARNING: All log messages before absl::InitializeLog() is called are written to STDERR\n",
      "I0000 00:00:1758297723.050573   82954 gpu_device.cc:2020] Created device /job:localhost/replica:0/task:0/device:GPU:0 with 9282 MB memory:  -> device: 0, name: NVIDIA GeForce RTX 4070, pci bus id: 0000:01:00.0, compute capability: 8.9\n"
     ]
    }
   ],
   "source": [
    "import mlflow\n",
    "from experiments_config import (\n",
    "    CommonConfig,\n",
    "    MlflowConfig,\n",
    "    DatasetConfig,\n",
    "    ModelConfig,\n",
    "    ModelTrainingConfig,\n",
    "    ModelEvaluationConfig,\n",
    ")\n",
    "\n",
    "common_config = CommonConfig()\n",
    "mlflow_config = MlflowConfig()\n",
    "dataset_config = DatasetConfig()\n",
    "model_config = ModelConfig()\n",
    "training_config = ModelTrainingConfig()\n",
    "evaluation_config = ModelEvaluationConfig()"
   ]
  },
  {
   "cell_type": "code",
   "execution_count": 2,
   "id": "5ee96ff0",
   "metadata": {},
   "outputs": [],
   "source": [
    "# log system metrics in the mlflow server\n",
    "if mlflow_config.ENABLE_SYSTEM_METRICS_LOGGING:\n",
    "    mlflow.enable_system_metrics_logging()"
   ]
  },
  {
   "cell_type": "code",
   "execution_count": 3,
   "id": "05f64ee1",
   "metadata": {},
   "outputs": [
    {
     "data": {
      "text/plain": [
       "<Experiment: artifact_location='mlflow-artifacts:/2', creation_time=1758296474574, experiment_id='2', last_update_time=1758296474574, lifecycle_stage='active', name='Smart_Recycling_AI', tags={'dataset': 'garbage-dataset-v1',\n",
       " 'framework': 'tensorflow-keras',\n",
       " 'mlflow.experimentKind': 'custom_model_development',\n",
       " 'mlflow.note.content': ' This experiment focuses on Smart Recycling using '\n",
       "                        'computer vision. \\n'\n",
       "                        '    The goal is to classify waste items into 8 '\n",
       "                        'categories: battery, biological, clothes, glass, '\n",
       "                        'metal, paper, plastic, and trash. \\n'\n",
       "                        '    Different model architectures and augmentation '\n",
       "                        'strategies are tested to evaluate their performance '\n",
       "                        'and identify the best approach \\n'\n",
       "                        '    for robust and scalable recycling classification.',\n",
       " 'num_classes': '8',\n",
       " 'project_name': 'smart-recycling',\n",
       " 'status': 'in-progress',\n",
       " 'task': 'image-classification',\n",
       " 'team': 'ai-team-xyz'}>"
      ]
     },
     "execution_count": 3,
     "metadata": {},
     "output_type": "execute_result"
    }
   ],
   "source": [
    "# Set the tracking URI and experiment for subsequent runs\n",
    "\n",
    "mlflow.set_tracking_uri(mlflow_config.MLFLOW_TRACKING_URI)\n",
    "mlflow.set_experiment(mlflow_config.MLFLOW_EXPERIMENT_NAME)"
   ]
  },
  {
   "cell_type": "code",
   "execution_count": null,
   "id": "7fe70467",
   "metadata": {},
   "outputs": [],
   "source": [
    "# Configure TensorFlow autologging with custom settings\n",
    "mlflow.tensorflow.autolog(**mlflow_config.MLFLOW_TENSORFLOW_AUTOLOG_CONFIG)\n",
    "\n",
    "# Set a custom run name for better identification in the MLflow UI\n",
    "mlflow.set_tag(\"mlflow.runName\", mlflow_config.MLFLOW_RUN_NAME)\n",
    "\n",
    "# set the dataset as tag in the mlflow run\n",
    "mlflow.set_tag(\"dataset\", dataset_config.DATASET)\n",
    "\n",
    "# set a description for the MLflow run\n",
    "mlflow.set_tag(\"mlflow.note.content\", mlflow_config.MLFLOW_RUN_DESCRIPTION)"
   ]
  },
  {
   "cell_type": "code",
   "execution_count": 5,
   "id": "ed0c4ae2",
   "metadata": {},
   "outputs": [
    {
     "name": "stdout",
     "output_type": "stream",
     "text": [
      "Found 14819 files belonging to 8 classes.\n",
      "Found 1973 files belonging to 8 classes.\n",
      "Found 2970 files belonging to 8 classes.\n"
     ]
    }
   ],
   "source": [
    "from smart_recycling.utils import get_tensorflow_dataset\n",
    "\n",
    "# Tensorflow Dataset loading\n",
    "\n",
    "train_dataset = get_tensorflow_dataset(\n",
    "    image_folder=f\"{dataset_config.DATASET_FOLDER}/train\",\n",
    "    image_size=dataset_config.IMAGE_SIZE,\n",
    "    batch_size=dataset_config.TRAIN_BATCH_SIZE,\n",
    "    label_mode=dataset_config.LABEL_MODE,\n",
    "    shuffle=True,  # shuffle True for training dataset\n",
    "    seed=common_config.SEED,\n",
    ")\n",
    "\n",
    "val_dataset = get_tensorflow_dataset(\n",
    "    image_folder=f\"{dataset_config.DATASET_FOLDER}/val\",\n",
    "    image_size=dataset_config.IMAGE_SIZE,\n",
    "    batch_size=dataset_config.VALIDATION_BATCH_SIZE,\n",
    "    label_mode=dataset_config.LABEL_MODE,\n",
    "    shuffle=False,  # shuffle False for validation dataset\n",
    "    seed=common_config.SEED,\n",
    ")\n",
    "\n",
    "test_dataset = get_tensorflow_dataset(\n",
    "    image_folder=f\"{dataset_config.DATASET_FOLDER}/test\",\n",
    "    image_size=dataset_config.IMAGE_SIZE,\n",
    "    batch_size=dataset_config.TEST_BATCH_SIZE,\n",
    "    label_mode=dataset_config.LABEL_MODE,\n",
    "    shuffle=False,  # shuffle needs to be false for later evaluation\n",
    "    seed=common_config.SEED,\n",
    ")"
   ]
  },
  {
   "cell_type": "code",
   "execution_count": 6,
   "id": "e49fd5ea",
   "metadata": {},
   "outputs": [],
   "source": [
    "import tensorflow as tf\n",
    "\n",
    "# setup mixed precision if wanted\n",
    "# Reference: https://www.tensorflow.org/guide/mixed_precision\n",
    "if model_config.ENABLE_MIXED_PRECISION:\n",
    "    tf.keras.mixed_precision.set_global_policy(\"mixed_float16\")\n",
    "\n",
    "model = model_config.MODEL\n",
    "\n",
    "model.compile(\n",
    "    optimizer=model_config.OPTIMIZER,\n",
    "    loss=model_config.LOSS,\n",
    "    metrics=model_config.METRICS,\n",
    ")"
   ]
  },
  {
   "cell_type": "code",
   "execution_count": 7,
   "id": "67df7286",
   "metadata": {},
   "outputs": [
    {
     "name": "stderr",
     "output_type": "stream",
     "text": [
      "2025-09-19 17:43:55.033299: I tensorflow/core/framework/local_rendezvous.cc:407] Local rendezvous is aborting with status: OUT_OF_RANGE: End of sequence\n"
     ]
    }
   ],
   "source": [
    "from smart_recycling.utils import compute_class_weights\n",
    "import numpy as np\n",
    "\n",
    "class_weight = None\n",
    "\n",
    "# Optionally compute class weights to handle class imbalance\n",
    "if training_config.COMPUTE_CLASS_WEIGHTS:\n",
    "    y_true = np.concatenate([y for x, y in train_dataset], axis=0)\n",
    "    class_weight = compute_class_weights(\n",
    "        np.argmax(y_true, axis=1), class_weight=training_config.CLASS_WEIGHTING_METHOD\n",
    "    )"
   ]
  },
  {
   "cell_type": "code",
   "execution_count": 8,
   "id": "9d2f4155",
   "metadata": {},
   "outputs": [
    {
     "name": "stderr",
     "output_type": "stream",
     "text": [
      "2025-09-19 17:44:05.893054: I tensorflow/core/framework/local_rendezvous.cc:407] Local rendezvous is aborting with status: OUT_OF_RANGE: End of sequence\n"
     ]
    },
    {
     "data": {
      "text/html": [
       "<pre style=\"white-space:pre;overflow-x:auto;line-height:normal;font-family:Menlo,'DejaVu Sans Mono',consolas,'Courier New',monospace\"></pre>\n"
      ],
      "text/plain": []
     },
     "metadata": {},
     "output_type": "display_data"
    },
    {
     "name": "stdout",
     "output_type": "stream",
     "text": [
      "Epoch 1/50\n"
     ]
    },
    {
     "name": "stderr",
     "output_type": "stream",
     "text": [
      "2025-09-19 17:44:10.972051: I external/local_xla/xla/stream_executor/cuda/cuda_dnn.cc:473] Loaded cuDNN version 91300\n"
     ]
    },
    {
     "name": "stdout",
     "output_type": "stream",
     "text": [
      "\u001b[1m462/464\u001b[0m \u001b[32m━━━━━━━━━━━━━━━━━━━\u001b[0m\u001b[37m━\u001b[0m \u001b[1m0s\u001b[0m 21ms/step - f1_score: 0.7345 - loss: 0.9533"
     ]
    },
    {
     "name": "stderr",
     "output_type": "stream",
     "text": [
      "WARNING:absl:You are saving your model as an HDF5 file via `model.save()` or `keras.saving.save_model(model)`. This file format is considered legacy. We recommend using instead the native Keras format, e.g. `model.save('my_model.keras')` or `keras.saving.save_model(model, 'my_model.keras')`. \n",
      "2025/09/19 17:44:23 WARNING mlflow.utils.autologging_utils: Encountered unexpected error during autologging: cannot pickle 'module' object\n"
     ]
    },
    {
     "name": "stdout",
     "output_type": "stream",
     "text": [
      "\u001b[1m464/464\u001b[0m \u001b[32m━━━━━━━━━━━━━━━━━━━━\u001b[0m\u001b[37m\u001b[0m \u001b[1m17s\u001b[0m 26ms/step - f1_score: 0.8283 - loss: 0.6015 - val_f1_score: 0.9289 - val_loss: 0.2384 - learning_rate: 0.0010\n",
      "Epoch 2/50\n",
      "\u001b[1m463/464\u001b[0m \u001b[32m━━━━━━━━━━━━━━━━━━━\u001b[0m\u001b[37m━\u001b[0m \u001b[1m0s\u001b[0m 21ms/step - f1_score: 0.9015 - loss: 0.3266"
     ]
    },
    {
     "name": "stderr",
     "output_type": "stream",
     "text": [
      "WARNING:absl:You are saving your model as an HDF5 file via `model.save()` or `keras.saving.save_model(model)`. This file format is considered legacy. We recommend using instead the native Keras format, e.g. `model.save('my_model.keras')` or `keras.saving.save_model(model, 'my_model.keras')`. \n",
      "2025/09/19 17:44:34 WARNING mlflow.utils.autologging_utils: Encountered unexpected error during autologging: cannot pickle 'module' object\n"
     ]
    },
    {
     "name": "stdout",
     "output_type": "stream",
     "text": [
      "\u001b[1m464/464\u001b[0m \u001b[32m━━━━━━━━━━━━━━━━━━━━\u001b[0m\u001b[37m\u001b[0m \u001b[1m11s\u001b[0m 24ms/step - f1_score: 0.9044 - loss: 0.3182 - val_f1_score: 0.9432 - val_loss: 0.1899 - learning_rate: 0.0010\n",
      "Epoch 3/50\n",
      "\u001b[1m464/464\u001b[0m \u001b[32m━━━━━━━━━━━━━━━━━━━━\u001b[0m\u001b[37m\u001b[0m \u001b[1m0s\u001b[0m 21ms/step - f1_score: 0.9139 - loss: 0.2832"
     ]
    },
    {
     "name": "stderr",
     "output_type": "stream",
     "text": [
      "WARNING:absl:You are saving your model as an HDF5 file via `model.save()` or `keras.saving.save_model(model)`. This file format is considered legacy. We recommend using instead the native Keras format, e.g. `model.save('my_model.keras')` or `keras.saving.save_model(model, 'my_model.keras')`. \n",
      "2025/09/19 17:44:46 WARNING mlflow.utils.autologging_utils: Encountered unexpected error during autologging: cannot pickle 'module' object\n"
     ]
    },
    {
     "name": "stdout",
     "output_type": "stream",
     "text": [
      "\u001b[1m464/464\u001b[0m \u001b[32m━━━━━━━━━━━━━━━━━━━━\u001b[0m\u001b[37m\u001b[0m \u001b[1m11s\u001b[0m 24ms/step - f1_score: 0.9165 - loss: 0.2768 - val_f1_score: 0.9479 - val_loss: 0.1730 - learning_rate: 0.0010\n",
      "Epoch 4/50\n",
      "\u001b[1m463/464\u001b[0m \u001b[32m━━━━━━━━━━━━━━━━━━━\u001b[0m\u001b[37m━\u001b[0m \u001b[1m0s\u001b[0m 21ms/step - f1_score: 0.9261 - loss: 0.2358"
     ]
    },
    {
     "name": "stderr",
     "output_type": "stream",
     "text": [
      "WARNING:absl:You are saving your model as an HDF5 file via `model.save()` or `keras.saving.save_model(model)`. This file format is considered legacy. We recommend using instead the native Keras format, e.g. `model.save('my_model.keras')` or `keras.saving.save_model(model, 'my_model.keras')`. \n",
      "2025/09/19 17:44:57 WARNING mlflow.utils.autologging_utils: Encountered unexpected error during autologging: cannot pickle 'module' object\n"
     ]
    },
    {
     "name": "stdout",
     "output_type": "stream",
     "text": [
      "\u001b[1m464/464\u001b[0m \u001b[32m━━━━━━━━━━━━━━━━━━━━\u001b[0m\u001b[37m\u001b[0m \u001b[1m11s\u001b[0m 24ms/step - f1_score: 0.9264 - loss: 0.2399 - val_f1_score: 0.9480 - val_loss: 0.1723 - learning_rate: 0.0010\n",
      "Epoch 5/50\n",
      "\u001b[1m464/464\u001b[0m \u001b[32m━━━━━━━━━━━━━━━━━━━━\u001b[0m\u001b[37m\u001b[0m \u001b[1m11s\u001b[0m 24ms/step - f1_score: 0.9314 - loss: 0.2222 - val_f1_score: 0.9434 - val_loss: 0.1847 - learning_rate: 0.0010\n",
      "Epoch 6/50\n",
      "\u001b[1m464/464\u001b[0m \u001b[32m━━━━━━━━━━━━━━━━━━━━\u001b[0m\u001b[37m\u001b[0m \u001b[1m11s\u001b[0m 24ms/step - f1_score: 0.9331 - loss: 0.2103 - val_f1_score: 0.9425 - val_loss: 0.1867 - learning_rate: 0.0010\n",
      "Epoch 7/50\n",
      "\u001b[1m462/464\u001b[0m \u001b[32m━━━━━━━━━━━━━━━━━━━\u001b[0m\u001b[37m━\u001b[0m \u001b[1m0s\u001b[0m 22ms/step - f1_score: 0.9387 - loss: 0.2056"
     ]
    },
    {
     "name": "stderr",
     "output_type": "stream",
     "text": [
      "WARNING:absl:You are saving your model as an HDF5 file via `model.save()` or `keras.saving.save_model(model)`. This file format is considered legacy. We recommend using instead the native Keras format, e.g. `model.save('my_model.keras')` or `keras.saving.save_model(model, 'my_model.keras')`. \n",
      "2025/09/19 17:45:31 WARNING mlflow.utils.autologging_utils: Encountered unexpected error during autologging: cannot pickle 'module' object\n"
     ]
    },
    {
     "name": "stdout",
     "output_type": "stream",
     "text": [
      "\u001b[1m464/464\u001b[0m \u001b[32m━━━━━━━━━━━━━━━━━━━━\u001b[0m\u001b[37m\u001b[0m \u001b[1m11s\u001b[0m 25ms/step - f1_score: 0.9391 - loss: 0.1965 - val_f1_score: 0.9509 - val_loss: 0.1694 - learning_rate: 0.0010\n",
      "Epoch 8/50\n",
      "\u001b[1m462/464\u001b[0m \u001b[32m━━━━━━━━━━━━━━━━━━━\u001b[0m\u001b[37m━\u001b[0m \u001b[1m0s\u001b[0m 21ms/step - f1_score: 0.9400 - loss: 0.1839"
     ]
    },
    {
     "name": "stderr",
     "output_type": "stream",
     "text": [
      "WARNING:absl:You are saving your model as an HDF5 file via `model.save()` or `keras.saving.save_model(model)`. This file format is considered legacy. We recommend using instead the native Keras format, e.g. `model.save('my_model.keras')` or `keras.saving.save_model(model, 'my_model.keras')`. \n",
      "2025/09/19 17:45:42 WARNING mlflow.utils.autologging_utils: Encountered unexpected error during autologging: cannot pickle 'module' object\n"
     ]
    },
    {
     "name": "stdout",
     "output_type": "stream",
     "text": [
      "\u001b[1m464/464\u001b[0m \u001b[32m━━━━━━━━━━━━━━━━━━━━\u001b[0m\u001b[37m\u001b[0m \u001b[1m11s\u001b[0m 24ms/step - f1_score: 0.9412 - loss: 0.1853 - val_f1_score: 0.9544 - val_loss: 0.1567 - learning_rate: 0.0010\n",
      "Epoch 9/50\n",
      "\u001b[1m464/464\u001b[0m \u001b[32m━━━━━━━━━━━━━━━━━━━━\u001b[0m\u001b[37m\u001b[0m \u001b[1m11s\u001b[0m 23ms/step - f1_score: 0.9431 - loss: 0.1762 - val_f1_score: 0.9495 - val_loss: 0.1655 - learning_rate: 0.0010\n",
      "Epoch 10/50\n",
      "\u001b[1m462/464\u001b[0m \u001b[32m━━━━━━━━━━━━━━━━━━━\u001b[0m\u001b[37m━\u001b[0m \u001b[1m0s\u001b[0m 21ms/step - f1_score: 0.9434 - loss: 0.1788"
     ]
    },
    {
     "name": "stderr",
     "output_type": "stream",
     "text": [
      "WARNING:absl:You are saving your model as an HDF5 file via `model.save()` or `keras.saving.save_model(model)`. This file format is considered legacy. We recommend using instead the native Keras format, e.g. `model.save('my_model.keras')` or `keras.saving.save_model(model, 'my_model.keras')`. \n",
      "2025/09/19 17:46:04 WARNING mlflow.utils.autologging_utils: Encountered unexpected error during autologging: cannot pickle 'module' object\n"
     ]
    },
    {
     "name": "stdout",
     "output_type": "stream",
     "text": [
      "\u001b[1m464/464\u001b[0m \u001b[32m━━━━━━━━━━━━━━━━━━━━\u001b[0m\u001b[37m\u001b[0m \u001b[1m11s\u001b[0m 24ms/step - f1_score: 0.9452 - loss: 0.1734 - val_f1_score: 0.9552 - val_loss: 0.1546 - learning_rate: 0.0010\n",
      "Epoch 11/50\n",
      "\u001b[1m464/464\u001b[0m \u001b[32m━━━━━━━━━━━━━━━━━━━━\u001b[0m\u001b[37m\u001b[0m \u001b[1m11s\u001b[0m 23ms/step - f1_score: 0.9468 - loss: 0.1670 - val_f1_score: 0.9515 - val_loss: 0.1726 - learning_rate: 0.0010\n",
      "Epoch 12/50\n",
      "\u001b[1m464/464\u001b[0m \u001b[32m━━━━━━━━━━━━━━━━━━━━\u001b[0m\u001b[37m\u001b[0m \u001b[1m11s\u001b[0m 24ms/step - f1_score: 0.9496 - loss: 0.1601 - val_f1_score: 0.9482 - val_loss: 0.1698 - learning_rate: 0.0010\n",
      "Epoch 13/50\n",
      "\u001b[1m464/464\u001b[0m \u001b[32m━━━━━━━━━━━━━━━━━━━━\u001b[0m\u001b[37m\u001b[0m \u001b[1m11s\u001b[0m 23ms/step - f1_score: 0.9498 - loss: 0.1561 - val_f1_score: 0.9565 - val_loss: 0.1569 - learning_rate: 0.0010\n",
      "Epoch 14/50\n",
      "\u001b[1m464/464\u001b[0m \u001b[32m━━━━━━━━━━━━━━━━━━━━\u001b[0m\u001b[37m\u001b[0m \u001b[1m11s\u001b[0m 24ms/step - f1_score: 0.9508 - loss: 0.1523 - val_f1_score: 0.9541 - val_loss: 0.1610 - learning_rate: 0.0010\n",
      "Epoch 15/50\n",
      "\u001b[1m464/464\u001b[0m \u001b[32m━━━━━━━━━━━━━━━━━━━━\u001b[0m\u001b[37m\u001b[0m \u001b[1m11s\u001b[0m 23ms/step - f1_score: 0.9532 - loss: 0.1475 - val_f1_score: 0.9505 - val_loss: 0.1685 - learning_rate: 0.0010\n",
      "Epoch 16/50\n",
      "\u001b[1m464/464\u001b[0m \u001b[32m━━━━━━━━━━━━━━━━━━━━\u001b[0m\u001b[37m\u001b[0m \u001b[1m11s\u001b[0m 23ms/step - f1_score: 0.9578 - loss: 0.1315 - val_f1_score: 0.9529 - val_loss: 0.1651 - learning_rate: 1.0000e-04\n",
      "Epoch 17/50\n",
      "\u001b[1m464/464\u001b[0m \u001b[32m━━━━━━━━━━━━━━━━━━━━\u001b[0m\u001b[37m\u001b[0m \u001b[1m11s\u001b[0m 24ms/step - f1_score: 0.9563 - loss: 0.1310 - val_f1_score: 0.9522 - val_loss: 0.1631 - learning_rate: 1.0000e-04\n",
      "Epoch 18/50\n",
      "\u001b[1m464/464\u001b[0m \u001b[32m━━━━━━━━━━━━━━━━━━━━\u001b[0m\u001b[37m\u001b[0m \u001b[1m11s\u001b[0m 24ms/step - f1_score: 0.9597 - loss: 0.1240 - val_f1_score: 0.9537 - val_loss: 0.1602 - learning_rate: 1.0000e-04\n",
      "Epoch 19/50\n",
      "\u001b[1m464/464\u001b[0m \u001b[32m━━━━━━━━━━━━━━━━━━━━\u001b[0m\u001b[37m\u001b[0m \u001b[1m11s\u001b[0m 24ms/step - f1_score: 0.9612 - loss: 0.1197 - val_f1_score: 0.9547 - val_loss: 0.1595 - learning_rate: 1.0000e-04\n",
      "Epoch 20/50\n",
      "\u001b[1m464/464\u001b[0m \u001b[32m━━━━━━━━━━━━━━━━━━━━\u001b[0m\u001b[37m\u001b[0m \u001b[1m11s\u001b[0m 24ms/step - f1_score: 0.9611 - loss: 0.1234 - val_f1_score: 0.9565 - val_loss: 0.1559 - learning_rate: 1.0000e-04\n"
     ]
    },
    {
     "name": "stderr",
     "output_type": "stream",
     "text": [
      "2025-09-19 17:47:55.460253: I tensorflow/core/framework/local_rendezvous.cc:407] Local rendezvous is aborting with status: OUT_OF_RANGE: End of sequence\n"
     ]
    },
    {
     "name": "stdout",
     "output_type": "stream",
     "text": [
      "\u001b[1m1/1\u001b[0m \u001b[32m━━━━━━━━━━━━━━━━━━━━\u001b[0m\u001b[37m\u001b[0m \u001b[1m1s\u001b[0m 794ms/step\n"
     ]
    },
    {
     "name": "stderr",
     "output_type": "stream",
     "text": [
      "2025/09/19 17:47:56 WARNING mlflow.models.model: `artifact_path` is deprecated. Please use `name` instead.\n",
      "WARNING:absl:The `save_format` argument is deprecated in Keras 3. We recommend removing this argument as it can be inferred from the file path. Received: save_format=keras\n",
      "2025/09/19 17:48:02 WARNING mlflow.utils.environment: Failed to resolve installed pip version. ``pip`` will be added to conda.yaml environment spec without a version specifier.\n"
     ]
    }
   ],
   "source": [
    "# Actual train the model\n",
    "\n",
    "history = model.fit(\n",
    "    train_dataset,\n",
    "    validation_data=val_dataset,\n",
    "    epochs=training_config.EPOCHS,\n",
    "    callbacks=training_config.TRAINING_CALLBACKS,\n",
    "    class_weight=class_weight,\n",
    ")"
   ]
  },
  {
   "cell_type": "code",
   "execution_count": 9,
   "id": "2a8e983e",
   "metadata": {},
   "outputs": [],
   "source": [
    "from smart_recycling.utils import save_model_history\n",
    "\n",
    "\n",
    "# Optional save the model history plot and the history as json to MLflow\n",
    "if evaluation_config.SAVE_MODEL_HISTORY:\n",
    "    save_model_history(history)"
   ]
  },
  {
   "cell_type": "code",
   "execution_count": 10,
   "id": "5e841295",
   "metadata": {},
   "outputs": [
    {
     "name": "stdout",
     "output_type": "stream",
     "text": [
      "\u001b[1m93/93\u001b[0m \u001b[32m━━━━━━━━━━━━━━━━━━━━\u001b[0m\u001b[37m\u001b[0m \u001b[1m2s\u001b[0m 18ms/step - f1_score: 0.9395 - loss: 0.1948\n"
     ]
    }
   ],
   "source": [
    "from smart_recycling.utils import (\n",
    "    save_prediction_time,\n",
    "    save_confusion_matrix,\n",
    "    save_prediction_csv,\n",
    ")\n",
    "\n",
    "# Optional evaluate the model on the test set\n",
    "if evaluation_config.INCLUDE_EVALUATION_ON_TEST_SET:\n",
    "    test_results = model.evaluate(test_dataset, return_dict=True)\n",
    "\n",
    "    # log the test results to mlflow with a \"test_\" prefix\n",
    "    for name, value in test_results.items():\n",
    "        mlflow.log_metric(f\"test_{name}\", value)\n",
    "\n",
    "    # optional save the prediction time to mlflow (in milliseconds)\n",
    "    if evaluation_config.SAVE_PREDICTION_TIME:\n",
    "        y_probs = save_prediction_time(model, test_dataset)\n",
    "\n",
    "    # if confusion matrix or prediction csv should be saved, we need the predicted and true labels\n",
    "    # additional the file paths and class names are needed\n",
    "    if evaluation_config.SAVE_CONFUSION_MATRIX or evaluation_config.SAVE_PREDICTION_CSV:\n",
    "        y_pred = np.argmax(y_probs, axis=1)\n",
    "\n",
    "        y_true = np.concatenate([y for x, y in test_dataset], axis=0)\n",
    "        y_true = np.argmax(y_true, axis=1)\n",
    "\n",
    "        file_paths = test_dataset.file_paths\n",
    "        class_names = test_dataset.class_names\n",
    "\n",
    "    # optional save the confusion matrix to mlflow as plot\n",
    "    if evaluation_config.SAVE_CONFUSION_MATRIX:\n",
    "        save_confusion_matrix(\n",
    "            y_true,\n",
    "            y_pred,\n",
    "            class_names,\n",
    "        )\n",
    "\n",
    "    # optional save two csv, one with all predictions and one with missclassified samples\n",
    "    if evaluation_config.SAVE_PREDICTION_CSV:\n",
    "        save_prediction_csv(file_paths, y_true, y_pred, y_probs, class_names)"
   ]
  }
 ],
 "metadata": {
  "kernelspec": {
   "display_name": "smart_recycling",
   "language": "python",
   "name": "python3"
  },
  "language_info": {
   "codemirror_mode": {
    "name": "ipython",
    "version": 3
   },
   "file_extension": ".py",
   "mimetype": "text/x-python",
   "name": "python",
   "nbconvert_exporter": "python",
   "pygments_lexer": "ipython3",
   "version": "3.11.13"
  }
 },
 "nbformat": 4,
 "nbformat_minor": 5
}
