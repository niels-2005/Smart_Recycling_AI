{
 "cells": [
  {
   "cell_type": "code",
   "execution_count": 1,
   "id": "ea2177c4",
   "metadata": {},
   "outputs": [],
   "source": [
    "import mlflow"
   ]
  },
  {
   "cell_type": "code",
   "execution_count": null,
   "id": "5ee96ff0",
   "metadata": {},
   "outputs": [],
   "source": [
    "# log system metrics every 10 seconds\n",
    "mlflow.enable_system_metrics_logging()"
   ]
  },
  {
   "cell_type": "code",
   "execution_count": 3,
   "id": "05f64ee1",
   "metadata": {},
   "outputs": [
    {
     "data": {
      "text/plain": [
       "<Experiment: artifact_location='mlflow-artifacts:/1', creation_time=1758209989740, experiment_id='1', last_update_time=1758209989740, lifecycle_stage='active', name='Smart_Recycling', tags={'dataset': 'garbage-dataset-v1',\n",
       " 'framework': 'tensorflow-keras',\n",
       " 'mlflow.experimentKind': 'custom_model_development',\n",
       " 'mlflow.note.content': ' This experiment focuses on Smart Recycling using '\n",
       "                        'computer vision. \\n'\n",
       "                        '    The goal is to classify waste items into 8 '\n",
       "                        'categories: battery, biological, clothes, glass, '\n",
       "                        'metal, paper, plastic, and trash. \\n'\n",
       "                        '    Different model architectures and augmentation '\n",
       "                        'strategies are tested to evaluate their performance '\n",
       "                        'and identify the best approach \\n'\n",
       "                        '    for robust and scalable recycling classification.',\n",
       " 'num_classes': '8',\n",
       " 'project_name': 'smart-recycling',\n",
       " 'status': 'in-progress',\n",
       " 'task': 'image-classification',\n",
       " 'team': 'ai-team-xyz'}>"
      ]
     },
     "execution_count": 3,
     "metadata": {},
     "output_type": "execute_result"
    }
   ],
   "source": [
    "# Set the tracking URI and experiment for subsequent runs\n",
    "\n",
    "mlflow.set_tracking_uri(\"http://localhost:5000\")\n",
    "mlflow.set_experiment(\"Smart_Recycling\")\n",
    "\n",
    "# set up run name"
   ]
  },
  {
   "cell_type": "code",
   "execution_count": 4,
   "id": "7fe70467",
   "metadata": {},
   "outputs": [
    {
     "name": "stderr",
     "output_type": "stream",
     "text": [
      "2025-09-18 18:26:34.870835: I tensorflow/core/util/port.cc:153] oneDNN custom operations are on. You may see slightly different numerical results due to floating-point round-off errors from different computation orders. To turn them off, set the environment variable `TF_ENABLE_ONEDNN_OPTS=0`.\n",
      "2025-09-18 18:26:34.906699: I tensorflow/core/platform/cpu_feature_guard.cc:210] This TensorFlow binary is optimized to use available CPU instructions in performance-critical operations.\n",
      "To enable the following instructions: AVX2 AVX512F AVX512_VNNI FMA, in other operations, rebuild TensorFlow with the appropriate compiler flags.\n",
      "2025-09-18 18:26:35.731824: I tensorflow/core/util/port.cc:153] oneDNN custom operations are on. You may see slightly different numerical results due to floating-point round-off errors from different computation orders. To turn them off, set the environment variable `TF_ENABLE_ONEDNN_OPTS=0`.\n"
     ]
    }
   ],
   "source": [
    "# Configure TensorFlow autologging with MLflow, disabling dataset logging to avoid large data uploads\n",
    "# for first experimentation runs. Model logging is also disabled to manage storage.\n",
    "\n",
    "\n",
    "mlflow.tensorflow.autolog(log_datasets=False, log_models=False)\n",
    "\n",
    "# Set a custom run name for better identification in the MLflow UI\n",
    "mlflow.set_tag(\"mlflow.runName\", \"baseline\")"
   ]
  },
  {
   "cell_type": "code",
   "execution_count": 6,
   "id": "ed0c4ae2",
   "metadata": {},
   "outputs": [
    {
     "name": "stdout",
     "output_type": "stream",
     "text": [
      "Found 14819 files belonging to 8 classes.\n"
     ]
    },
    {
     "name": "stderr",
     "output_type": "stream",
     "text": [
      "WARNING: All log messages before absl::InitializeLog() is called are written to STDERR\n",
      "I0000 00:00:1758212796.885857  199453 gpu_device.cc:2020] Created device /job:localhost/replica:0/task:0/device:GPU:0 with 9284 MB memory:  -> device: 0, name: NVIDIA GeForce RTX 4070, pci bus id: 0000:01:00.0, compute capability: 8.9\n"
     ]
    },
    {
     "name": "stdout",
     "output_type": "stream",
     "text": [
      "Found 1973 files belonging to 8 classes.\n",
      "Found 2970 files belonging to 8 classes.\n"
     ]
    }
   ],
   "source": [
    "from smart_r.utils import get_tensorflow_dataset\n",
    "\n",
    "# Tensorflow Dataset loading\n",
    "\n",
    "train_dataset = get_tensorflow_dataset(\n",
    "    image_folder=\"/home/ubuntu/dev/smart_r/garbage-dataset-v1/train\",\n",
    "    image_size=(224, 224),\n",
    "    batch_size=64,\n",
    "    label_mode=\"categorical\",\n",
    "    shuffle=True,  # shuffle True for training dataset\n",
    "    seed=42,\n",
    ")\n",
    "\n",
    "val_dataset = get_tensorflow_dataset(\n",
    "    image_folder=\"/home/ubuntu/dev/smart_r/garbage-dataset-v1/val\",\n",
    "    image_size=(224, 224),\n",
    "    batch_size=64,\n",
    "    label_mode=\"categorical\",\n",
    "    shuffle=False,  # shuffle False for validation dataset\n",
    "    seed=42,\n",
    ")\n",
    "\n",
    "test_dataset = get_tensorflow_dataset(\n",
    "    image_folder=\"/home/ubuntu/dev/smart_r/garbage-dataset-v1/test\",\n",
    "    image_size=(224, 224),\n",
    "    batch_size=64,\n",
    "    label_mode=\"categorical\",\n",
    "    shuffle=False,  # shuffle needs to be false for later evaluation\n",
    "    seed=42,\n",
    ")"
   ]
  },
  {
   "cell_type": "code",
   "execution_count": 7,
   "id": "e49fd5ea",
   "metadata": {},
   "outputs": [],
   "source": [
    "import tensorflow as tf\n",
    "\n",
    "# setup mixed precision if wanted\n",
    "# Reference: https://www.tensorflow.org/guide/mixed_precision\n",
    "tf.keras.mixed_precision.set_global_policy(\"mixed_float16\")\n",
    "\n",
    "# Section for Model Creation\n",
    "\n",
    "base_model = tf.keras.applications.MobileNetV3Large(\n",
    "    include_top=False,\n",
    "    input_shape=(224, 224, 3),\n",
    "    weights=\"imagenet\",\n",
    "    pooling=None,\n",
    "    include_preprocessing=True,\n",
    ")\n",
    "\n",
    "base_model.trainable = (\n",
    "    False  # Freeze the base model, only the top layers will be trained\n",
    ")\n",
    "\n",
    "model = tf.keras.Sequential(\n",
    "    [\n",
    "        tf.keras.Input(shape=(224, 224, 3)),\n",
    "        tf.keras.layers.RandomFlip(\"horizontal_and_vertical\", seed=42),\n",
    "        tf.keras.layers.RandomRotation(0.12, seed=42),\n",
    "        tf.keras.layers.RandomZoom(0.12, seed=42),\n",
    "        tf.keras.layers.RandomContrast(0.12, seed=42),\n",
    "        tf.keras.layers.RandomBrightness(0.12, seed=42),\n",
    "        base_model,\n",
    "        tf.keras.layers.GlobalAveragePooling2D(),\n",
    "        tf.keras.layers.Dense(8, activation=\"softmax\", dtype=\"float32\"),\n",
    "    ]\n",
    ")\n",
    "model.compile(\n",
    "    optimizer=tf.keras.optimizers.Adam(learning_rate=0.001),\n",
    "    loss=tf.keras.losses.CategoricalCrossentropy(),\n",
    "    metrics=[tf.keras.metrics.F1Score(average=\"weighted\")],\n",
    ")"
   ]
  },
  {
   "cell_type": "code",
   "execution_count": 8,
   "id": "67df7286",
   "metadata": {},
   "outputs": [
    {
     "name": "stderr",
     "output_type": "stream",
     "text": [
      "2025-09-18 18:26:41.347568: I tensorflow/core/framework/local_rendezvous.cc:407] Local rendezvous is aborting with status: OUT_OF_RANGE: End of sequence\n"
     ]
    },
    {
     "data": {
      "text/plain": [
       "{0: np.float64(2.616348870056497),\n",
       " 1: np.float64(2.47975234270415),\n",
       " 2: np.float64(0.3381480467323841),\n",
       " 3: np.float64(0.8071350762527233),\n",
       " 4: np.float64(2.4214052287581698),\n",
       " 5: np.float64(0.7048611111111112),\n",
       " 6: np.float64(1.2448756720430108),\n",
       " 7: np.float64(2.608978873239437)}"
      ]
     },
     "execution_count": 8,
     "metadata": {},
     "output_type": "execute_result"
    }
   ],
   "source": [
    "from smart_r.utils import compute_class_weights\n",
    "import numpy as np\n",
    "\n",
    "# Compute the class weights, thats important when your dealing with an imbalanced dataset\n",
    "\n",
    "y_true = np.concatenate([y for x, y in train_dataset], axis=0)\n",
    "class_weight = compute_class_weights(np.argmax(y_true, axis=1), class_weight=\"balanced\")\n",
    "\n",
    "class_weight"
   ]
  },
  {
   "cell_type": "code",
   "execution_count": 9,
   "id": "93f5c163",
   "metadata": {},
   "outputs": [],
   "source": [
    "# Configure Training Callbacks\n",
    "\n",
    "\n",
    "# stop training when the validation loss is not decreasing after 10 epochs\n",
    "early_stopping = tf.keras.callbacks.EarlyStopping(\n",
    "    monitor=\"val_loss\",\n",
    "    patience=10,\n",
    "    restore_best_weights=True,\n",
    ")\n",
    "\n",
    "\n",
    "# This is not strictly necessary with the adam optimizer, but can help in some cases\n",
    "# it will reduce the learning rate by a factor of 0.1 if the validation loss is not decreasing after 5 epochs to a minimum of 1e-7\n",
    "reduce_lr = tf.keras.callbacks.ReduceLROnPlateau(\n",
    "    monitor=\"val_loss\",\n",
    "    factor=0.1,\n",
    "    patience=5,\n",
    "    min_lr=1e-7,\n",
    ")"
   ]
  },
  {
   "cell_type": "code",
   "execution_count": 10,
   "id": "9d2f4155",
   "metadata": {},
   "outputs": [
    {
     "data": {
      "text/html": [
       "<pre style=\"white-space:pre;overflow-x:auto;line-height:normal;font-family:Menlo,'DejaVu Sans Mono',consolas,'Courier New',monospace\"></pre>\n"
      ],
      "text/plain": []
     },
     "metadata": {},
     "output_type": "display_data"
    },
    {
     "name": "stdout",
     "output_type": "stream",
     "text": [
      "Epoch 1/3\n"
     ]
    },
    {
     "name": "stderr",
     "output_type": "stream",
     "text": [
      "2025-09-18 18:26:44.786302: E tensorflow/core/util/util.cc:131] oneDNN supports DT_HALF only on platforms with AVX-512. Falling back to the default Eigen-based implementation if present.\n",
      "2025-09-18 18:26:46.175721: I external/local_xla/xla/stream_executor/cuda/cuda_dnn.cc:473] Loaded cuDNN version 91300\n"
     ]
    },
    {
     "name": "stdout",
     "output_type": "stream",
     "text": [
      "\u001b[1m232/232\u001b[0m \u001b[32m━━━━━━━━━━━━━━━━━━━━\u001b[0m\u001b[37m\u001b[0m \u001b[1m0s\u001b[0m 52ms/step - f1_score: 0.6544 - loss: 1.1380"
     ]
    },
    {
     "name": "stderr",
     "output_type": "stream",
     "text": [
      "WARNING:absl:You are saving your model as an HDF5 file via `model.save()` or `keras.saving.save_model(model)`. This file format is considered legacy. We recommend using instead the native Keras format, e.g. `model.save('my_model.keras')` or `keras.saving.save_model(model, 'my_model.keras')`. \n",
      "2025/09/18 18:27:06 WARNING mlflow.utils.autologging_utils: Encountered unexpected error during autologging: cannot pickle 'module' object\n"
     ]
    },
    {
     "name": "stdout",
     "output_type": "stream",
     "text": [
      "\u001b[1m232/232\u001b[0m \u001b[32m━━━━━━━━━━━━━━━━━━━━\u001b[0m\u001b[37m\u001b[0m \u001b[1m25s\u001b[0m 75ms/step - f1_score: 0.7954 - loss: 0.7024 - val_f1_score: 0.9304 - val_loss: 0.2345 - learning_rate: 0.0010\n",
      "Epoch 2/3\n",
      "\u001b[1m232/232\u001b[0m \u001b[32m━━━━━━━━━━━━━━━━━━━━\u001b[0m\u001b[37m\u001b[0m \u001b[1m0s\u001b[0m 42ms/step - f1_score: 0.8892 - loss: 0.3746"
     ]
    },
    {
     "name": "stderr",
     "output_type": "stream",
     "text": [
      "WARNING:absl:You are saving your model as an HDF5 file via `model.save()` or `keras.saving.save_model(model)`. This file format is considered legacy. We recommend using instead the native Keras format, e.g. `model.save('my_model.keras')` or `keras.saving.save_model(model, 'my_model.keras')`. \n",
      "2025/09/18 18:27:17 WARNING mlflow.utils.autologging_utils: Encountered unexpected error during autologging: cannot pickle 'module' object\n"
     ]
    },
    {
     "name": "stdout",
     "output_type": "stream",
     "text": [
      "\u001b[1m232/232\u001b[0m \u001b[32m━━━━━━━━━━━━━━━━━━━━\u001b[0m\u001b[37m\u001b[0m \u001b[1m11s\u001b[0m 47ms/step - f1_score: 0.8971 - loss: 0.3543 - val_f1_score: 0.9401 - val_loss: 0.1997 - learning_rate: 0.0010\n",
      "Epoch 3/3\n",
      "\u001b[1m232/232\u001b[0m \u001b[32m━━━━━━━━━━━━━━━━━━━━\u001b[0m\u001b[37m\u001b[0m \u001b[1m0s\u001b[0m 42ms/step - f1_score: 0.9122 - loss: 0.2962"
     ]
    },
    {
     "name": "stderr",
     "output_type": "stream",
     "text": [
      "WARNING:absl:You are saving your model as an HDF5 file via `model.save()` or `keras.saving.save_model(model)`. This file format is considered legacy. We recommend using instead the native Keras format, e.g. `model.save('my_model.keras')` or `keras.saving.save_model(model, 'my_model.keras')`. \n",
      "2025/09/18 18:27:28 WARNING mlflow.utils.autologging_utils: Encountered unexpected error during autologging: cannot pickle 'module' object\n"
     ]
    },
    {
     "name": "stdout",
     "output_type": "stream",
     "text": [
      "\u001b[1m232/232\u001b[0m \u001b[32m━━━━━━━━━━━━━━━━━━━━\u001b[0m\u001b[37m\u001b[0m \u001b[1m11s\u001b[0m 48ms/step - f1_score: 0.9138 - loss: 0.2883 - val_f1_score: 0.9493 - val_loss: 0.1748 - learning_rate: 0.0010\n"
     ]
    }
   ],
   "source": [
    "# Actual train the model\n",
    "\n",
    "\n",
    "# epochs can be set to a high number, early stopping will stop the training when the model is not improving (after patience epochs)\n",
    "history = model.fit(\n",
    "    train_dataset,\n",
    "    validation_data=val_dataset,\n",
    "    epochs=3,\n",
    "    callbacks=[early_stopping, reduce_lr],\n",
    "    class_weight=class_weight,\n",
    ")"
   ]
  },
  {
   "cell_type": "code",
   "execution_count": 11,
   "id": "2a8e983e",
   "metadata": {},
   "outputs": [],
   "source": [
    "from smart_r.utils import save_model_history\n",
    "\n",
    "\n",
    "# Save the model history plot and the history as json to MLflow\n",
    "save_model_history(history)"
   ]
  },
  {
   "cell_type": "code",
   "execution_count": 12,
   "id": "5cebe0f9",
   "metadata": {},
   "outputs": [
    {
     "name": "stdout",
     "output_type": "stream",
     "text": [
      "\u001b[1m47/47\u001b[0m \u001b[32m━━━━━━━━━━━━━━━━━━━━\u001b[0m\u001b[37m\u001b[0m \u001b[1m4s\u001b[0m 89ms/step - f1_score: 0.9346 - loss: 0.2055\n"
     ]
    }
   ],
   "source": [
    "test_results = model.evaluate(test_dataset, return_dict=True)\n",
    "\n",
    "# This will log all test metrics to MLflow with the prefix \"test_\" (like test_loss, test_accuracy, etc.)\n",
    "for name, value in test_results.items():\n",
    "    mlflow.log_metric(f\"test_{name}\", value)"
   ]
  },
  {
   "cell_type": "code",
   "execution_count": 13,
   "id": "025f23b1",
   "metadata": {},
   "outputs": [
    {
     "name": "stderr",
     "output_type": "stream",
     "text": [
      "2025-09-18 18:27:38.065475: I tensorflow/core/framework/local_rendezvous.cc:407] Local rendezvous is aborting with status: OUT_OF_RANGE: End of sequence\n"
     ]
    }
   ],
   "source": [
    "from smart_r.utils import save_prediction_time\n",
    "\n",
    "# Measure and log prediction time to MLflow and get the probabilities from the test dataset\n",
    "y_probs = save_prediction_time(model, test_dataset)\n",
    "y_pred = np.argmax(y_probs, axis=1)\n",
    "\n",
    "# get the true labels from the test dataset\n",
    "y_true = np.concatenate([y for x, y in test_dataset], axis=0)\n",
    "y_true = np.argmax(y_true, axis=1)"
   ]
  },
  {
   "cell_type": "code",
   "execution_count": 14,
   "id": "44210e60",
   "metadata": {},
   "outputs": [],
   "source": [
    "from smart_r.utils import save_confusion_matrix, save_prediction_csv\n",
    "\n",
    "file_paths = test_dataset.file_paths\n",
    "class_names = test_dataset.class_names\n",
    "\n",
    "save_confusion_matrix(y_true, y_pred, class_names)\n",
    "\n",
    "save_prediction_csv(file_paths, y_true, y_pred, y_probs, class_names)"
   ]
  }
 ],
 "metadata": {
  "kernelspec": {
   "display_name": "smart_r",
   "language": "python",
   "name": "python3"
  },
  "language_info": {
   "codemirror_mode": {
    "name": "ipython",
    "version": 3
   },
   "file_extension": ".py",
   "mimetype": "text/x-python",
   "name": "python",
   "nbconvert_exporter": "python",
   "pygments_lexer": "ipython3",
   "version": "3.11.13"
  }
 },
 "nbformat": 4,
 "nbformat_minor": 5
}
